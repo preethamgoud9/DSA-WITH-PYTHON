{
 "cells": [
  {
   "cell_type": "markdown",
   "metadata": {},
   "source": [
    "Im building Array Data Structures from scratch using class"
   ]
  },
  {
   "cell_type": "code",
   "execution_count": 50,
   "metadata": {},
   "outputs": [],
   "source": [
    "import ctypes"
   ]
  },
  {
   "cell_type": "code",
   "execution_count": 70,
   "metadata": {},
   "outputs": [],
   "source": [
    "class MyArray:\n",
    "\n",
    "    def __init__(self,capacity=1):\n",
    "        self.capacity = capacity # the capacity of the array\n",
    "        self.size = 0  #no of elements in the array\n",
    "        #create ctypes array with capacity = self.capacity\n",
    "        self.array = self.__make_array(self.capacity)\n",
    "    def __make_array(self,capacity):\n",
    "        return (capacity*ctypes.py_object)()\n",
    "\n",
    "    def __len__(self):\n",
    "        \"this function returns the length of the array\"\n",
    "        return self.size\n",
    "    \n",
    "\n",
    "    def append(self,element):\n",
    "        if self.size == self.capacity:\n",
    "            self.__resize()\n",
    "        self.array[self.size] = element\n",
    "        self.size = self.size + 1\n",
    "\n",
    "    def __resize(self):\n",
    "        new_capacity = 2 * self.capacity\n",
    "        new_array= self.__make_array(new_capacity) \n",
    "        for i in range(self.size):\n",
    "            new_array[i] = self.array[i]\n",
    "        self.array = new_array\n",
    "        self.capacity = new_capacity\n",
    "            \n",
    "        "
   ]
  },
  {
   "cell_type": "code",
   "execution_count": 73,
   "metadata": {},
   "outputs": [
    {
     "data": {
      "text/plain": [
       "4"
      ]
     },
     "execution_count": 73,
     "metadata": {},
     "output_type": "execute_result"
    }
   ],
   "source": [
    "L = MyArray()\n",
    "len(L)\n",
    "L.append('f-22')\n",
    "len(L)\n",
    "L.append('su-57')\n",
    "len(L)\n",
    "L.append('b2-bomber')\n",
    "L.append(\"rafale\")\n",
    "len(L)"
   ]
  },
  {
   "cell_type": "code",
   "execution_count": null,
   "metadata": {},
   "outputs": [],
   "source": []
  },
  {
   "cell_type": "code",
   "execution_count": null,
   "metadata": {},
   "outputs": [],
   "source": []
  },
  {
   "cell_type": "code",
   "execution_count": null,
   "metadata": {},
   "outputs": [],
   "source": []
  }
 ],
 "metadata": {
  "kernelspec": {
   "display_name": "base",
   "language": "python",
   "name": "python3"
  },
  "language_info": {
   "codemirror_mode": {
    "name": "ipython",
    "version": 3
   },
   "file_extension": ".py",
   "mimetype": "text/x-python",
   "name": "python",
   "nbconvert_exporter": "python",
   "pygments_lexer": "ipython3",
   "version": "3.12.7"
  }
 },
 "nbformat": 4,
 "nbformat_minor": 2
}
