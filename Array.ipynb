{
 "cells": [
  {
   "cell_type": "markdown",
   "metadata": {},
   "source": [
    "Im building Array Data Structures from scratch using class"
   ]
  },
  {
   "cell_type": "code",
   "execution_count": 37,
   "metadata": {},
   "outputs": [],
   "source": [
    "import ctypes"
   ]
  },
  {
   "cell_type": "code",
   "execution_count": null,
   "metadata": {},
   "outputs": [],
   "source": [
    "class MyArray:\n",
    "\n",
    "    def __init__(self,capacity=1):\n",
    "        self.capacity = capacity # the capacity of the array\n",
    "        self.size = 0  #no of elements in the array\n",
    "        #create ctypes array with capacity = self.capacity\n",
    "        self.array = self.__make_array(self.capacity)\n",
    "    def __make_array(self,capacity):\n",
    "        return (capacity*ctypes.py_object)()\n",
    "\n",
    "    def __len__(self):\n",
    "        \"this function returns the length of the array\"\n",
    "        return self.size\n",
    "    \n",
    "\n",
    "    def append(self,element):\n",
    "        if self.size == self.capacity:\n",
    "            self.__resize()\n",
    "        self.array[self.size] = element\n",
    "        self.size = self.size + 1\n",
    "\n",
    "    def __resize(self):\n",
    "        new_capacity = 2 * self.capacity\n",
    "        new_array= self.__make_array(new_capacity) \n",
    "        for i in range(self.size):\n",
    "            new_array[i] = self.array[i]\n",
    "        self.array = new_array\n",
    "        self.capacity = new_capacity\n",
    "    \n",
    "            \n",
    "    def __str__(self):   #print method\n",
    "        result = ''\n",
    "        for i in range(self.size):\n",
    "            result = result + str(self.array[i]) + ','\n",
    "        \n",
    "        return '[' + result[0:-1] + ']'\n",
    "    \n",
    "    def __getitem__(self,index):\n",
    "        return self.array[index]\n",
    "    \n",
    "    def __setitem__(self,index,value):\n",
    "        self.array[index] = value\n",
    "        return self.array"
   ]
  },
  {
   "cell_type": "code",
   "execution_count": 68,
   "metadata": {},
   "outputs": [
    {
     "name": "stdout",
     "output_type": "stream",
     "text": [
      "[hyderbad,bangalore,mumbai,delhi,kochi,pune,chennai,kolkata]\n",
      "[hyderbad,bangalore,mumbai,delhi,kochi,pune,chennai,West Bengal]\n"
     ]
    },
    {
     "ename": "TypeError",
     "evalue": "'MyArray' object is not subscriptable",
     "output_type": "error",
     "traceback": [
      "\u001b[0;31m---------------------------------------------------------------------------\u001b[0m",
      "\u001b[0;31mTypeError\u001b[0m                                 Traceback (most recent call last)",
      "Cell \u001b[0;32mIn[68], line 15\u001b[0m\n\u001b[1;32m     13\u001b[0m l1[\u001b[38;5;241m7\u001b[39m] \u001b[38;5;241m=\u001b[39m \u001b[38;5;124m'\u001b[39m\u001b[38;5;124mWest Bengal\u001b[39m\u001b[38;5;124m'\u001b[39m\n\u001b[1;32m     14\u001b[0m \u001b[38;5;28mprint\u001b[39m(l1)\n\u001b[0;32m---> 15\u001b[0m l1[\u001b[38;5;241m20\u001b[39m]\n",
      "\u001b[0;31mTypeError\u001b[0m: 'MyArray' object is not subscriptable"
     ]
    }
   ],
   "source": [
    "l1 = MyArray()\n",
    "l1.append('hyderbad')\n",
    "l1.append('bangalore')\n",
    "l1.append('mumbai')\n",
    "l1.append('delhi')\n",
    "l1.append('kochi')\n",
    "l1.append('pune')\n",
    "l1.append('chennai')\n",
    "l1.append('kolkata')\n",
    "len(l1)\n",
    "print(l1)\n",
    "\n",
    "l1[7] = 'West Bengal'\n",
    "print(l1)\n",
    "l1[20]"
   ]
  },
  {
   "cell_type": "code",
   "execution_count": null,
   "metadata": {},
   "outputs": [],
   "source": []
  },
  {
   "cell_type": "code",
   "execution_count": null,
   "metadata": {},
   "outputs": [],
   "source": []
  },
  {
   "cell_type": "code",
   "execution_count": null,
   "metadata": {},
   "outputs": [],
   "source": []
  }
 ],
 "metadata": {
  "kernelspec": {
   "display_name": "base",
   "language": "python",
   "name": "python3"
  },
  "language_info": {
   "codemirror_mode": {
    "name": "ipython",
    "version": 3
   },
   "file_extension": ".py",
   "mimetype": "text/x-python",
   "name": "python",
   "nbconvert_exporter": "python",
   "pygments_lexer": "ipython3",
   "version": "3.12.7"
  }
 },
 "nbformat": 4,
 "nbformat_minor": 2
}
