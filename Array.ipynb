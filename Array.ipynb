{
 "cells": [
  {
   "cell_type": "markdown",
   "metadata": {},
   "source": [
    "Im building Array Data Structures from scratch using class"
   ]
  },
  {
   "cell_type": "code",
   "execution_count": 29,
   "metadata": {},
   "outputs": [],
   "source": [
    "import ctypes "
   ]
  },
  {
   "cell_type": "code",
   "execution_count": 39,
   "metadata": {},
   "outputs": [],
   "source": [
    "class MyArray:\n",
    "\n",
    "    def __init__(self,capacity=1):\n",
    "        self.capacity = capacity # the capacity of the array\n",
    "        self.size = 0  #no of elements in the array\n",
    "        #create ctypes array with capacity = self.capacity\n",
    "        self.array = self.__make_array(self.capacity)\n",
    "    def __make_array(self,capacity):\n",
    "        return (capacity*ctypes.py_object)()\n",
    "\n",
    "    def __len__(self):\n",
    "        \"this function returns the length of the array\"\n",
    "        return self.size\n",
    "    \n",
    "\n",
    "    def append(self,element):\n",
    "        if self.size == self.capacity:\n",
    "            self.__resize()\n",
    "        self.array[self.size] = element\n",
    "        self.size = self.size + 1\n",
    "\n",
    "    def __resize(self):\n",
    "        new_capacity = 2 * self.capacity\n",
    "        new_array= self.__make_array(new_capacity) \n",
    "        for i in range(self.size):\n",
    "            new_array[i] = self.array[i]\n",
    "        self.array = new_array\n",
    "        self.capacity = new_capacity\n",
    "    \n",
    "            \n",
    "    def __str__(self):   #print method\n",
    "        result = ''\n",
    "        for i in range(self.size):\n",
    "            result = result + str(self.array[i]) + ','\n",
    "        \n",
    "        return '[' + result[0:-1] + ']'\n",
    "    \n",
    "    def __getitem__(self,index):\n",
    "        if 0 <= index < self.size:\n",
    "            return self.array[index]\n",
    "        raise IndexError(\"Index is out of range\")\n",
    "    \n",
    "    def __setitem__(self,index,value):\n",
    "        if 0 <= index < self.size:\n",
    "            self.array[index] = value\n",
    "            return self.array\n",
    "        raise IndexError(\"Index is out of range\")\n",
    "    \n",
    "    def pop(self):\n",
    "        if self.size == 0:\n",
    "            return \"Empty List\"\n",
    "        print(self.array[self.size-1])\n",
    "        self.size = self.size - 1\n",
    "\n",
    "    def clear(self):\n",
    "        self.capacity = 1\n",
    "        self.size = 0\n",
    "        \n",
    "    def find(self,value):\n",
    "        for i in range(self.size):\n",
    "            if self.array[i] == value:\n",
    "                return i\n",
    "                break\n",
    "        return \"ValueError - Value is not found in the list\"\n",
    "    \n",
    "    def insert(self,index,value):\n",
    "        if not 0<= index <= self.size:\n",
    "            raise IndexError(\"index is out of range\")\n",
    "\n",
    "        if self.size == self.capacity:\n",
    "            self.__resize()\n",
    "        for i in range(self.size,index,-1):\n",
    "           self.array[i] = self.array[i-1]\n",
    "        self.array[index] = value\n",
    "        self.size = self.size + 1"
   ]
  },
  {
   "cell_type": "code",
   "execution_count": 44,
   "metadata": {},
   "outputs": [
    {
     "name": "stdout",
     "output_type": "stream",
     "text": [
      "[hyderabad,bangalore,mumbai,delhi,kochi,pune,chennai,kolkata]\n",
      "[hyderabad,bangalore,mumbai,delhi,kochi,pune,chennai,kolkata,india]\n"
     ]
    }
   ],
   "source": [
    "l1 = MyArray()\n",
    "l1.append('hyderabad')\n",
    "l1.append('bangalore')\n",
    "l1.append('mumbai')\n",
    "l1.append('delhi')\n",
    "l1.append('kochi')\n",
    "l1.append('pune')\n",
    "l1.append('chennai')\n",
    "l1.append('kolkata')\n",
    "print(l1)\n",
    "l1.insert(8,'india')\n",
    "print(l1)\n",
    "\n"
   ]
  },
  {
   "cell_type": "code",
   "execution_count": null,
   "metadata": {},
   "outputs": [],
   "source": []
  },
  {
   "cell_type": "code",
   "execution_count": null,
   "metadata": {},
   "outputs": [],
   "source": []
  },
  {
   "cell_type": "code",
   "execution_count": null,
   "metadata": {},
   "outputs": [],
   "source": []
  }
 ],
 "metadata": {
  "kernelspec": {
   "display_name": "base",
   "language": "python",
   "name": "python3"
  },
  "language_info": {
   "codemirror_mode": {
    "name": "ipython",
    "version": 3
   },
   "file_extension": ".py",
   "mimetype": "text/x-python",
   "name": "python",
   "nbconvert_exporter": "python",
   "pygments_lexer": "ipython3",
   "version": "3.12.7"
  }
 },
 "nbformat": 4,
 "nbformat_minor": 2
}
